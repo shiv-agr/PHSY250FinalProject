{
 "cells": [
  {
   "cell_type": "markdown",
   "metadata": {},
   "source": [
    "# Periodic and Chaotic behaviour in a leaky faucet - General Template\n"
   ]
  },
  {
   "cell_type": "markdown",
   "metadata": {},
   "source": [
    "## Table of Contents (Tentative)"
   ]
  },
  {
   "cell_type": "markdown",
   "metadata": {},
   "source": [
    "1. Introduction and Aims  \n",
    "1. Mathematical mode\n",
    "1. Numerically solving the differential equation\n",
    "1. Periodic behavior\n",
    "1. Transition between periodicity and chaos\n",
    "1. Chaotic behavior\n",
    "1. Period doubling cascade"
   ]
  },
  {
   "cell_type": "markdown",
   "metadata": {},
   "source": [
    "## Introduction and Aims"
   ]
  },
  {
   "cell_type": "markdown",
   "metadata": {},
   "source": [
    "The broad aim of this project is to explore and visualize the onset of chaos and the phenomenon of period doubling through the model of a leaky faucet. \n",
    "\n",
    "(More specific aims to be added)"
   ]
  },
  {
   "cell_type": "markdown",
   "metadata": {},
   "source": [
    "## Mathematical Model"
   ]
  },
  {
   "cell_type": "markdown",
   "metadata": {},
   "source": [
    "We are treating the droplet of water as a damped harmonic oscillator, first proposed by R.S.Shaw in ”The Dripping Faucet as a Model Chaotic System”. Using Newton's laws of motions, we get the following differential equation for a damped harmonic oscillator. In our case, the mass of oscillator is not constant, but is changing at a constant rate as the water flows to the droplet. "
   ]
  },
  {
   "cell_type": "markdown",
   "metadata": {},
   "source": [
    "$ \\frac{d(mv)}{dt}= mg - kx - bv $  which expands to $\\frac{d^2 x}{dt^2} = mg - kx - bv - \\frac{dm}{dt}v$\n",
    "\n",
    "$\\frac{dm}{dt} = r $\n",
    "\n",
    "$\\frac{dx}{dt} = v$"
   ]
  },
  {
   "cell_type": "markdown",
   "metadata": {},
   "source": [
    "Constants  \n",
    "$m$ : mass of the water  \n",
    "$g$ : acceleration due to gravity  \n",
    "$k$ : the spring constant  \n",
    "  $b$ : the damping constant    \n",
    "  $r$ : the rate of water flow (mass per unit time)"
   ]
  },
  {
   "cell_type": "markdown",
   "metadata": {},
   "source": [
    "Additionaly, this model has two more constraints which give it the leaky faucet behavior. As the $x$ value approaches and obtains a particular critical value $x_0$, the water droplet detaches itself from the bulk of the system. The mass of the water droplet that leaves $\\Delta m$ is proportional to the velocity at the time of detachment. Further, considering the intertia of the water drop, we want the mass of drop to be smaller when velocity is low, and for high velocities, the mass of the droplet should be closer to its limiting value $m$."
   ]
  },
  {
   "cell_type": "markdown",
   "metadata": {},
   "source": [
    "Constraints:  \n",
    "$ x_0 = constant$  \n",
    "$ \\Delta m = \\frac{v}{\\alpha + v}$ where $v = \\frac{dx}{dt}$"
   ]
  },
  {
   "cell_type": "markdown",
   "metadata": {},
   "source": [
    "Initial Conditions:  \n",
    "$x(t=0) = 0$ and $v(t=0) = 0$\n",
    "\n",
    "When $x=x_0$ at some time $t_0$, we reset values to following:  \n",
    "$x(t_0) = 0$ and $v(t_0) = 0$  \n",
    "$m$ = $m - \\Delta(m)$"
   ]
  },
  {
   "cell_type": "markdown",
   "metadata": {},
   "source": [
    "The differential equation for the model will be solved numerically using a modified Runge Kutta method which takes into account the additional constraints. "
   ]
  },
  {
   "cell_type": "markdown",
   "metadata": {},
   "source": [
    "## Differential Equation Solver"
   ]
  },
  {
   "cell_type": "code",
   "execution_count": null,
   "metadata": {},
   "outputs": [],
   "source": [
    "def runge_kutta(m,g,k,b,r):\n",
    "    "
   ]
  },
  {
   "cell_type": "markdown",
   "metadata": {},
   "source": [
    "## Future Plans:"
   ]
  },
  {
   "cell_type": "markdown",
   "metadata": {},
   "source": [
    "I will tweak the different constants to see what kind of interesting behaviour is generated. In general, I plan to observe the transition from periodic behaviour to chaotic behavior, and try to understand what variables affect this transition. In particular, I will plot results from three phases: The periodic phase when there is a single period, transition phase when the period is around 2-5, and the chaotic phase, when the period doubling has led to multiple\n",
    "\n",
    "I will plot graphs for the position and velocity with respect to time for these three phases, to observe the evolution of the system in these different phases over time. \n",
    "\n",
    "More important, for our model it is of particular interest to show how $T_i$ relates to $T_{i+1}$ where $T_i$ is the time at which the ith water droplet falls. In the periodic phase, the time it takes for droplets to drop will be constant. However, as we change the rate of water flow, it will give rise to different patterns in the time between water droplets. So I will study this property by plotting a Poincare map of $T_i$ vs $T_{i+1}$ for the three phases. \n",
    "Since the system only depends on position and velocity, I will also draw a phase space map with position in one axis and velocity in the other.\n",
    "\n",
    "Lastly, I hope to plot a bifurcation diagram of the system, which shows the phenomenon of period doubling and how periodic behaviour gives way to chaos. \n",
    "\n",
    "Depending on how these results go, I may also consider alternate models of the leaky faucet system which use fluid dynamics apporach to get similar results.\n",
    "\n",
    "In the poster presentation, I will also discuss the relevence of period doubling in various other phenomenon in the social and physical sciences."
   ]
  },
  {
   "cell_type": "code",
   "execution_count": null,
   "metadata": {},
   "outputs": [],
   "source": []
  }
 ],
 "metadata": {
  "kernelspec": {
   "display_name": "Python 3",
   "language": "python",
   "name": "python3"
  },
  "language_info": {
   "codemirror_mode": {
    "name": "ipython",
    "version": 3
   },
   "file_extension": ".py",
   "mimetype": "text/x-python",
   "name": "python",
   "nbconvert_exporter": "python",
   "pygments_lexer": "ipython3",
   "version": "3.6.4"
  }
 },
 "nbformat": 4,
 "nbformat_minor": 2
}
